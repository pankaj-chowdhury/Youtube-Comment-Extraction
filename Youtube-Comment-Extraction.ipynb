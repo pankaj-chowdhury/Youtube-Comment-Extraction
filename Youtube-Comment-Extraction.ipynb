{
 "cells": [
  {
   "cell_type": "code",
   "execution_count": null,
   "metadata": {},
   "outputs": [],
   "source": [
    "from googleapiclient.discovery import build\n",
    "import os\n",
    "\n",
    "# Set up the API client\n",
    "api_key = \"XXXXXXXXXX\"  # Replace with your YouTube Data API key\n",
    "youtube = build('youtube', 'v3', developerKey=api_key)\n",
    "\n",
    "def search_videos(query):\n",
    "    videos = []\n",
    "\n",
    "    # Construct the API request\n",
    "    request = youtube.search().list(\n",
    "        part='snippet',\n",
    "        q=query,\n",
    "        type='video',\n",
    "        maxResults=20\n",
    "    )\n",
    "\n",
    "    # Execute the API request\n",
    "    response = request.execute()\n",
    "\n",
    "    # Extract video information from the response\n",
    "    for item in response['items']:\n",
    "        video_title = item['snippet']['title']\n",
    "        video_id = item['id']['videoId']\n",
    "        videos.append((video_title, video_id))\n",
    "\n",
    "    return videos\n",
    "\n",
    "# Example usage (Searching for \"domestic violence\" related youtube vid)\n",
    "query = \"domestic violence\"\n",
    "videos = search_videos(query)\n",
    "\n",
    "# Print the list of videos\n",
    "for video_title, video_id in videos:\n",
    "    print(f\"{video_title}: https://www.youtube.com/watch?v={video_id}\")"
   ]
  }
 ],
 "metadata": {
  "language_info": {
   "name": "python"
  },
  "orig_nbformat": 4
 },
 "nbformat": 4,
 "nbformat_minor": 2
}
